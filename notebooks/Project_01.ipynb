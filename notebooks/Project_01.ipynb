{
 "cells": [
  {
   "cell_type": "code",
   "execution_count": 1,
   "metadata": {},
   "outputs": [
    {
     "data": {
      "text/plain": [
       "['Commons',\n",
       " 'Wikivoyage',\n",
       " 'Wiktionary',\n",
       " 'Wikibooks',\n",
       " 'Wikinews',\n",
       " 'Wikidata',\n",
       " 'Wikiversity',\n",
       " 'Wikiquote',\n",
       " 'MediaWiki',\n",
       " 'Wikisource',\n",
       " 'Wikispecies',\n",
       " 'Wikifunctions',\n",
       " 'Meta-Wiki']"
      ]
     },
     "execution_count": 1,
     "metadata": {},
     "output_type": "execute_result"
    }
   ],
   "source": [
    "import requests\n",
    "from scrapy.selector import Selector\n",
    "from scrapy.http import HtmlResponse\n",
    "\n",
    "url=\"https://wikipedia.org/\"\n",
    "\n",
    "body = requests.get(url).content\n",
    "response = HtmlResponse(url=url, body=body, encoding=\"utf-8\")\n",
    "Selector(response=response).xpath(\"//span[@class='other-project-title jsl10n']/text()\").getall()"
   ]
  },
  {
   "cell_type": "code",
   "execution_count": 2,
   "metadata": {},
   "outputs": [
    {
     "data": {
      "text/plain": [
       "['Free media collection',\n",
       " 'Free travel guide',\n",
       " 'Free dictionary',\n",
       " 'Free textbooks',\n",
       " 'Free news source',\n",
       " 'Free knowledge base',\n",
       " 'Free learning resources',\n",
       " 'Free quote compendium',\n",
       " 'Free & open wiki software',\n",
       " 'Free content library',\n",
       " 'Free species directory',\n",
       " 'Free function library',\n",
       " 'Community coordination & documentation']"
      ]
     },
     "execution_count": 2,
     "metadata": {},
     "output_type": "execute_result"
    }
   ],
   "source": [
    "import requests\n",
    "from scrapy.selector import Selector\n",
    "from scrapy.http import HtmlResponse\n",
    "\n",
    "url=\"https://wikipedia.org/\"\n",
    "\n",
    "body = requests.get(url).content\n",
    "response = HtmlResponse(url=url, body=body, encoding=\"utf-8\")\n",
    "title = Selector(response=response).xpath(\"//span[contains(@class,'other-project-title')]/text()\")\n",
    "title.getall()\n",
    "tagline = Selector(response=response).xpath(\"//span[contains(@class,'other-project-tagline')]/text()\")\n",
    "tagline.getall()\n",
    "\n"
   ]
  },
  {
   "cell_type": "code",
   "execution_count": 3,
   "metadata": {},
   "outputs": [
    {
     "name": "stdout",
     "output_type": "stream",
     "text": [
      "Commons None\n",
      "Wikivoyage None\n",
      "Wiktionary None\n",
      "Wikibooks None\n",
      "Wikinews None\n",
      "Wikidata None\n",
      "Wikiversity None\n",
      "Wikiquote None\n",
      "MediaWiki None\n",
      "Wikisource None\n",
      "Wikispecies None\n",
      "Wikifunctions None\n",
      "Meta-Wiki None\n"
     ]
    }
   ],
   "source": [
    "import requests\n",
    "from scrapy.selector import Selector\n",
    "from scrapy.http import HtmlResponse\n",
    "\n",
    "url=\"https://wikipedia.org/\"\n",
    "\n",
    "body = requests.get(url).content\n",
    "response = HtmlResponse(url=url, body=body, encoding=\"utf-8\")\n",
    "names = Selector(response=response).xpath(\"//div[@class='other-project-text']\")\n",
    "names.getall()\n",
    "\n",
    "for index, lname in enumerate(names):\n",
    "    #print(lname)\n",
    "    #l_title = lname.xpath(\"//span[@class='other-project-title jsl10n']/text()\").get()\n",
    "    ltitle = lname.css(\"span::text\").get()\n",
    "    ltagline = lname.css('.slogan').get()\n",
    "    l_title = lname.xpath(\"//div/span[contains(@data-jsl10n, '.name')]/text()\").get()\n",
    "    l_tagline = lname.xpath(\"//span[@class='other-project-tagline jsl10n']/text()\").get()\n",
    "    #yield {'title': l_title, 'link': l_tagline}\n",
    "    print(ltitle, ltagline)\n",
    "    \n",
    "\n"
   ]
  },
  {
   "cell_type": "markdown",
   "metadata": {},
   "source": [
    "# Argos - Television Prices\n",
    "\n",
    "https://www.argos.co.uk/browse/technology/televisions-and-accessories/televisions/c:30106/"
   ]
  },
  {
   "cell_type": "code",
   "execution_count": 4,
   "metadata": {},
   "outputs": [
    {
     "name": "stdout",
     "output_type": "stream",
     "text": [
      "                                                title  price  \\\n",
      "0           Leyland Magnolia Matt Emulsion paint, 10L    £16   \n",
      "1   Dulux Walls & Ceilings Pure Brilliant White Ma...    £27   \n",
      "2   Leyland Pure brilliant white Matt Emulsion pai...    £16   \n",
      "3   Dulux Quick dry Pure brilliant white Eggshell ...    £20   \n",
      "4   Dulux Walls & Ceilings Pure brilliant white Si...    £27   \n",
      "5   Dulux Pure brilliant white Matt Emulsion paint...    £22   \n",
      "6     Dulux Egyptian Cotton Silk Wall & Ceiling Paint    £22   \n",
      "7   Dulux Easycare Brilliant white Matt Emulsion p...    £52   \n",
      "8   Dulux Easycare Washable & tough Pure brilliant...    £17   \n",
      "9   Valspar Express Coat Pure Brilliant White Matt...    £17   \n",
      "10  Dulux Walls & ceilings Willow tree Matt Emulsi...  £0.50   \n",
      "11  Dulux Pure brilliant white Gloss Metal & wood ...    £28   \n",
      "12  GoodHome Walls & ceilings Limerick Matt Emulsi...  £1.50   \n",
      "13  GoodHome One Coat Pure Brilliant White Matt Em...    £18   \n",
      "14        GoodHome Durable Cancun Matt Emulsion paint    £18   \n",
      "15          Dulux Polished pebble Silk Emulsion paint    £22   \n",
      "16     Dulux Easycare Willow tree Matt Emulsion paint  £2.55   \n",
      "17      Dulux Easycare White mist Matt Emulsion paint    £28   \n",
      "18  Dulux Standard Sapphire salute Matt Emulsion p...  £2.55   \n",
      "19  Dulux Quick dry Pure brilliant white Satinwood...    £20   \n",
      "20  Dulux Easycare Sapphire salute Matt Emulsion p...  £2.55   \n",
      "21   Dulux Easycare Natural slate Matt Emulsion paint  £2.55   \n",
      "22  Dulux Easycare Polished pebble Matt Emulsion p...    £28   \n",
      "23  Dulux Trade Pure brilliant white Matt Emulsion...    £30   \n",
      "\n",
      "                                             imagesrc  \n",
      "0   https://media.diy.com/is/image/Kingfisher/leyl...  \n",
      "1   https://media.diy.com/is/image/Kingfisher/dulu...  \n",
      "2   https://media.diy.com/is/image/Kingfisher/leyl...  \n",
      "3   https://media.diy.com/is/image/Kingfisher/dulu...  \n",
      "4   https://media.diy.com/is/image/Kingfisher/dulu...  \n",
      "5   https://media.diy.com/is/image/Kingfisher/dulu...  \n",
      "6   https://media.diy.com/is/image/Kingfisher/dulu...  \n",
      "7   https://media.diy.com/is/image/Kingfisher/dulu...  \n",
      "8   https://media.diy.com/is/image/Kingfisher/dulu...  \n",
      "9   https://media.diy.com/is/image/Kingfisher/vals...  \n",
      "10  https://media.diy.com/is/image/Kingfisher/dulu...  \n",
      "11  https://media.diy.com/is/image/Kingfisher/dulu...  \n",
      "12  https://media.diy.com/is/image/Kingfisher/good...  \n",
      "13  https://media.diy.com/is/image/Kingfisher/good...  \n",
      "14  https://media.diy.com/is/image/Kingfisher/good...  \n",
      "15  https://media.diy.com/is/image/Kingfisher/dulu...  \n",
      "16  https://media.diy.com/is/image/Kingfisher/dulu...  \n",
      "17  https://media.diy.com/is/image/Kingfisher/dulu...  \n",
      "18  https://media.diy.com/is/image/Kingfisher/dulu...  \n",
      "19  https://media.diy.com/is/image/Kingfisher/dulu...  \n",
      "20  https://media.diy.com/is/image/Kingfisher/dulu...  \n",
      "21  https://media.diy.com/is/image/Kingfisher/dulu...  \n",
      "22  https://media.diy.com/is/image/Kingfisher/dulu...  \n",
      "23  https://media.diy.com/is/image/Kingfisher/dulu...  \n"
     ]
    }
   ],
   "source": [
    "import requests\n",
    "from scrapy.selector import Selector\n",
    "from scrapy.http import HtmlResponse\n",
    "import pandas as pd\n",
    "\n",
    "url = 'https://www.diy.com/painting-decorating/paint.cat?Location=Interior'\n",
    "\n",
    "def fetch_page_content(url):\n",
    "    try:\n",
    "        response = requests.get(url, timeout=15) ## 1. Try to fetch the url's content\n",
    "        # if not response.ok: ## 2. If there is an error, print a message and ignore this url\n",
    "        #     print('Something went wrong', response.status_code)\n",
    "        #     pass \n",
    "    except Exception as e: # 2. Can also be done with a try/except block\n",
    "        print('Error:', e, response.status_code)\n",
    "        pass\n",
    "    \n",
    "    html = response.content # 4. Obtain the content if everything is fine above\n",
    "    \n",
    "    return Selector(text=html) # 5. Return a Selector object which allows you to access the hierarchy of css selectors in the html text \n",
    "\n",
    "\n",
    "def getTitle(selector):\n",
    "    titles = selector.xpath(\"//p[@data-test-id='productTitle']/text()\").getall()\n",
    "    prices =  selector.xpath(\"//div[@data-test-id='product-primary-price']\")\n",
    "    images = selector.xpath(\"//div[@data-test-id='product-image']\")\n",
    "    #print(titles.getall())\n",
    "    pricelist = []\n",
    "    imglist = []\n",
    "\n",
    "    for index, price in enumerate(prices):\n",
    "        lcurrency = price.css(\"span::text\").get()\n",
    "        lprice = price.css('div::text').get()\n",
    "        pricelist.insert(index, lcurrency+lprice)\n",
    "    #print(pricelist)\n",
    "\n",
    "    for index, image in enumerate(images):\n",
    "        img_src = image.css(\"::attr(src)\").get()\n",
    "        imglist.insert(index, img_src)\n",
    "    #print(imglist)\n",
    "\n",
    "    productdf = pd.DataFrame ({\n",
    "        'title' : titles,\n",
    "        'price' : pricelist,\n",
    "        'imagesrc' : imglist\n",
    "    })\n",
    "    print (productdf)\n",
    "\n",
    "\n",
    "# Defining main function \n",
    "def main(): \n",
    "    content = fetch_page_content(url)\n",
    "    getTitle(content) \n",
    "  \n",
    "  \n",
    "# Using the special variable  \n",
    "# __name__ \n",
    "if __name__==\"__main__\": \n",
    "    main() "
   ]
  },
  {
   "cell_type": "code",
   "execution_count": 5,
   "metadata": {},
   "outputs": [
    {
     "data": {
      "text/plain": [
       "['<div class=\"other-project-text\">\\n<span class=\"other-project-title jsl10n\" data-jsl10n=\"commons.name\">Commons</span>\\n<span class=\"other-project-tagline jsl10n\" data-jsl10n=\"commons.slogan\">Free media collection</span>\\n</div>',\n",
       " '<div class=\"other-project-text\">\\n<span class=\"other-project-title jsl10n\" data-jsl10n=\"wikivoyage.name\">Wikivoyage</span>\\n<span class=\"other-project-tagline jsl10n\" data-jsl10n=\"wikivoyage.slogan\">Free travel guide</span>\\n</div>',\n",
       " '<div class=\"other-project-text\">\\n<span class=\"other-project-title jsl10n\" data-jsl10n=\"wiktionary.name\">Wiktionary</span>\\n<span class=\"other-project-tagline jsl10n\" data-jsl10n=\"wiktionary.slogan\">Free dictionary</span>\\n</div>',\n",
       " '<div class=\"other-project-text\">\\n<span class=\"other-project-title jsl10n\" data-jsl10n=\"wikibooks.name\">Wikibooks</span>\\n<span class=\"other-project-tagline jsl10n\" data-jsl10n=\"wikibooks.slogan\">Free textbooks</span>\\n</div>',\n",
       " '<div class=\"other-project-text\">\\n<span class=\"other-project-title jsl10n\" data-jsl10n=\"wikinews.name\">Wikinews</span>\\n<span class=\"other-project-tagline jsl10n\" data-jsl10n=\"wikinews.slogan\">Free news source</span>\\n</div>',\n",
       " '<div class=\"other-project-text\">\\n<span class=\"other-project-title jsl10n\" data-jsl10n=\"wikidata.name\">Wikidata</span>\\n<span class=\"other-project-tagline jsl10n\" data-jsl10n=\"wikidata.slogan\">Free knowledge base</span>\\n</div>',\n",
       " '<div class=\"other-project-text\">\\n<span class=\"other-project-title jsl10n\" data-jsl10n=\"wikiversity.name\">Wikiversity</span>\\n<span class=\"other-project-tagline jsl10n\" data-jsl10n=\"wikiversity.slogan\">Free learning resources</span>\\n</div>',\n",
       " '<div class=\"other-project-text\">\\n<span class=\"other-project-title jsl10n\" data-jsl10n=\"wikiquote.name\">Wikiquote</span>\\n<span class=\"other-project-tagline jsl10n\" data-jsl10n=\"wikiquote.slogan\">Free quote compendium</span>\\n</div>',\n",
       " '<div class=\"other-project-text\">\\n<span class=\"other-project-title jsl10n\" data-jsl10n=\"mediawiki.name\">MediaWiki</span>\\n<span class=\"other-project-tagline jsl10n\" data-jsl10n=\"mediawiki.slogan\">Free &amp; open wiki software</span>\\n</div>',\n",
       " '<div class=\"other-project-text\">\\n<span class=\"other-project-title jsl10n\" data-jsl10n=\"wikisource.name\">Wikisource</span>\\n<span class=\"other-project-tagline jsl10n\" data-jsl10n=\"wikisource.slogan\">Free content library</span>\\n</div>',\n",
       " '<div class=\"other-project-text\">\\n<span class=\"other-project-title jsl10n\" data-jsl10n=\"wikispecies.name\">Wikispecies</span>\\n<span class=\"other-project-tagline jsl10n\" data-jsl10n=\"wikispecies.slogan\">Free species directory</span>\\n</div>',\n",
       " '<div class=\"other-project-text\">\\n<span class=\"other-project-title jsl10n\" data-jsl10n=\"wikifunctions.name\">Wikifunctions</span>\\n<span class=\"other-project-tagline jsl10n\" data-jsl10n=\"wikifunctions.slogan\">Free function library</span>\\n</div>',\n",
       " '<div class=\"other-project-text\">\\n<span class=\"other-project-title jsl10n\" data-jsl10n=\"metawiki.name\">Meta-Wiki</span>\\n<span class=\"other-project-tagline jsl10n\" data-jsl10n=\"metawiki.slogan\">Community coordination &amp; documentation</span>\\n</div>']"
      ]
     },
     "execution_count": 5,
     "metadata": {},
     "output_type": "execute_result"
    }
   ],
   "source": [
    "import requests\n",
    "from scrapy.selector import Selector\n",
    "from scrapy.http import HtmlResponse\n",
    "\n",
    "url=\"https://wikipedia.org/\"\n",
    "\n",
    "body = requests.get(url).content\n",
    "response = HtmlResponse(url=url, body=body, encoding=\"utf-8\")\n",
    "names = Selector(response=response).xpath(\"//div[@class='other-project-text']\")\n",
    "names.getall()"
   ]
  }
 ],
 "metadata": {
  "kernelspec": {
   "display_name": "base",
   "language": "python",
   "name": "python3"
  },
  "language_info": {
   "codemirror_mode": {
    "name": "ipython",
    "version": 3
   },
   "file_extension": ".py",
   "mimetype": "text/x-python",
   "name": "python",
   "nbconvert_exporter": "python",
   "pygments_lexer": "ipython3",
   "version": "3.12.4"
  }
 },
 "nbformat": 4,
 "nbformat_minor": 2
}
